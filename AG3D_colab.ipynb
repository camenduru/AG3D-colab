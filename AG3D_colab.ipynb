{
  "cells": [
    {
      "cell_type": "markdown",
      "metadata": {
        "id": "view-in-github"
      },
      "source": [
        "[![Open In Colab](https://colab.research.google.com/assets/colab-badge.svg)](https://colab.research.google.com/github/camenduru/dreamgaussian-colab/blob/main/dreamgaussian_colab.ipynb)"
      ]
    },
    {
      "cell_type": "code",
      "execution_count": null,
      "metadata": {
        "id": "VjYy0F2gZIPR"
      },
      "outputs": [],
      "source": [
        "%cd /content\n",
        "!git clone https://github.com/zj-dong/AG3D\n",
        "%cd /content/AG3D\n",
        "\n",
        "!mkdir training/deformers/smplx/SMPLX\n",
        "!wget https://huggingface.co/camenduru/SMPL_python_v.1.0.0/resolve/main/basicModel_f_lbs_10_207_0_v1.0.0.pkl -O /content/AG3D/training/deformers/smplx/SMPLX/SMPL_NEUTRAL.pkl\n",
        "\n",
        "!wget https://huggingface.co/camenduru/AG3D/resolve/main/deep_fashion.pkl -O /content/AG3D/model/deep_fashion.pkl\n",
        "!wget https://huggingface.co/camenduru/AG3D/resolve/main/sdf_smpl.pkl -O /content/AG3D/model/sdf_smpl.pkl\n",
        "!wget https://huggingface.co/camenduru/AG3D/resolve/main/ubc_fashion.pkl -O /content/AG3D/model/ubc_fashion.pkl\n",
        "!wget https://huggingface.co/camenduru/AG3D/resolve/main/dp_pose_dist.npy -O /content/AG3D/model/data/dp_pose_dist.npy\n",
        "!wget https://huggingface.co/camenduru/AG3D/resolve/main/ubc_pose_dist.npy -O /content/AG3D/model/data/ubc_pose_dist.npy\n",
        "\n",
        "!pip install -q trimesh kornia ninja\n",
        "!pip install -q https://huggingface.co/camenduru/pytorch3d-build/resolve/main/pytorch3d-0.7.4-cp310-cp310-linux_x86_64.whl\n",
        "\n",
        "!python setup.py install"
      ]
    },
    {
      "cell_type": "code",
      "execution_count": null,
      "metadata": {},
      "outputs": [],
      "source": [
        "!python test.py --network=./model/deep_fashion.pkl  --pose_dist=./data/dp_pose_dist.npy --output_path './result/deepfashion' --res=512 --truncation=0.7 --number=100 --type=gen_samples"
      ]
    }
  ],
  "metadata": {
    "accelerator": "GPU",
    "colab": {
      "gpuType": "T4",
      "provenance": []
    },
    "kernelspec": {
      "display_name": "Python 3",
      "name": "python3"
    },
    "language_info": {
      "name": "python"
    }
  },
  "nbformat": 4,
  "nbformat_minor": 0
}
